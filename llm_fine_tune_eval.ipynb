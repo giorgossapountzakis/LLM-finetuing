{
 "cells": [
  {
   "cell_type": "code",
   "execution_count": 1,
   "id": "025c06c9-a17a-45a5-82fa-09a18af7715d",
   "metadata": {},
   "outputs": [
    {
     "name": "stderr",
     "output_type": "stream",
     "text": [
      "c:\\Users\\gsapountzakis\\working_dir\\.venv\\Lib\\site-packages\\tqdm\\auto.py:21: TqdmWarning: IProgress not found. Please update jupyter and ipywidgets. See https://ipywidgets.readthedocs.io/en/stable/user_install.html\n",
      "  from .autonotebook import tqdm as notebook_tqdm\n"
     ]
    }
   ],
   "source": [
    "import transformers\n",
    "import torch\n",
    "import pandas as pd\n",
    "from transformers import AutoTokenizer\n",
    "from datasets import Dataset\n",
    "from transformers import DataCollatorForLanguageModeling\n",
    "from transformers import AutoModelForCausalLM, TrainingArguments, Trainer\n",
    "from transformers import pipeline\n",
    "import re"
   ]
  },
  {
   "cell_type": "code",
   "execution_count": 2,
   "id": "bc079780-3ecd-4a41-a0e0-a03ba79908bb",
   "metadata": {},
   "outputs": [],
   "source": [
    "model_path = \"./fine_tuned_model_lora_10\"\n"
   ]
  },
  {
   "cell_type": "code",
   "execution_count": 3,
   "id": "ad4ac983-5dfa-4bed-ac85-a6a0c42b859d",
   "metadata": {},
   "outputs": [],
   "source": [
    "user_query = \"Tell me the deep learning tools that know about drug discovery\""
   ]
  },
  {
   "cell_type": "code",
   "execution_count": 4,
   "id": "d4dfdcfa-d6e7-4dcd-a7b2-1174f634c4c2",
   "metadata": {},
   "outputs": [],
   "source": [
    "tokenizer = AutoTokenizer.from_pretrained(\"meta-llama/Llama-3.2-1B-Instruct\")\n",
    "tokenizer.pad_token = tokenizer.eos_token\n",
    "tokenized_inputs = tokenizer(user_query,return_tensors=\"pt\")"
   ]
  },
  {
   "cell_type": "code",
   "execution_count": 5,
   "id": "2fd0a128-cb21-4207-a5a6-9a989f186b0a",
   "metadata": {},
   "outputs": [
    {
     "name": "stderr",
     "output_type": "stream",
     "text": [
      "c:\\Users\\gsapountzakis\\working_dir\\.venv\\Lib\\site-packages\\peft\\tuners\\tuners_utils.py:543: UserWarning: Model with `tie_word_embeddings=True` and the tied_target_modules=['lm_head'] are part of the adapter. This can lead to complications, for example when merging the adapter or converting your model to formats other than safetensors. See for example https://github.com/huggingface/peft/issues/2018.\n",
      "  warnings.warn(\n",
      "Setting `pad_token_id` to `eos_token_id`:128001 for open-end generation.\n"
     ]
    }
   ],
   "source": [
    "model = AutoModelForCausalLM.from_pretrained(model_path)\n",
    "tokenized_outputs = model.generate(tokenized_inputs[\"input_ids\"],attention_mask=tokenized_inputs[\"attention_mask\"], max_new_tokens=150, do_sample=True, top_k=50, top_p=0.95)"
   ]
  },
  {
   "cell_type": "code",
   "execution_count": 6,
   "id": "e5ccf683-d5ec-489c-8175-e35b76e42d22",
   "metadata": {},
   "outputs": [],
   "source": [
    "# output = tokenizer.batch_decode(tokenized_outputs, skip_special_tokens=True)\n",
    "# print(output)"
   ]
  },
  {
   "cell_type": "code",
   "execution_count": 7,
   "id": "f15bfd0f-375e-4c4b-8034-2f075c1f9387",
   "metadata": {},
   "outputs": [
    {
     "name": "stderr",
     "output_type": "stream",
     "text": [
      "Device set to use cuda:0\n"
     ]
    }
   ],
   "source": [
    "READER_LLM = pipeline(\n",
    "    model=model,\n",
    "    tokenizer=tokenizer,\n",
    "    task=\"text-generation\",\n",
    "    do_sample=True,\n",
    "    temperature=0.1,\n",
    "    repetition_penalty=1.1,\n",
    "    return_full_text=False,\n",
    "    max_new_tokens=300,\n",
    ")"
   ]
  },
  {
   "cell_type": "code",
   "execution_count": 8,
   "id": "2149f375-44d9-42c8-826c-b3777ceb98c8",
   "metadata": {},
   "outputs": [],
   "source": [
    "prompt_in_chat_format = [\n",
    "    {\n",
    "        \"role\": \"system\",\n",
    "        \"content\": \"\"\"You are an expert in drug discovery and development. \n",
    "        Your task is to explain technologies around drug discovery and new artificial intelligence tools that were introduced to this. \n",
    "        Give a small comprehensive answer. Response should be concise and relevant to the question asked.\n",
    "        \"\"\"\n",
    "    },\n",
    "    {\n",
    "        \"role\": \"user\",\n",
    "        \"content\": \"Please provide an analysis of the following: {user_query}\",\n",
    "    },\n",
    "]\n"
   ]
  },
  {
   "cell_type": "code",
   "execution_count": 9,
   "id": "42d957d0-6476-49cc-9fd9-0699d5c9f856",
   "metadata": {},
   "outputs": [],
   "source": [
    "PROMPT_TEMPLATE = tokenizer.apply_chat_template(\n",
    "    prompt_in_chat_format, tokenize=False, add_generation_prompt=True\n",
    ")\n",
    "final_prompt = PROMPT_TEMPLATE.format(user_query=user_query)"
   ]
  },
  {
   "cell_type": "code",
   "execution_count": 10,
   "id": "b4294c07-dc29-4ab8-b11e-972c6a25a4df",
   "metadata": {},
   "outputs": [
    {
     "name": "stdout",
     "output_type": "stream",
     "text": [
      "Deep learning has revolutionized the field of drug discovery by providing AI-powered tools that can analyze vast amounts of data, identify patterns, and make predictions with unprecedented accuracy. Here are some of the key deep learning-based tools used in drug discovery:\n",
      "\n",
      "1. **Convolutional Neural Networks (CNNs)**: CNNs are widely used for image-based screening of large datasets, such as protein structures, which helps identify potential lead compounds.\n",
      "2. **Recurrent Neural Networks (RNNs)**: RNNs are applied to text-based data, like molecular sequences, to predict the behavior of molecules and their interactions.\n",
      "3. **Generative Adversarial Networks (GANs)**: GANs generate novel compounds based on existing ones, helping researchers to design new leads with minimal experimental effort.\n",
      "4. **Transfer Learning**: This technique leverages pre-trained models from one domain to tackle another, enabling the transfer of knowledge across different types of data, such as chemical structure and biological activity.\n",
      "5. **Graph Convolutional Networks (GCNs)**: GCNs model complex relationships between molecules and their interactions using graph-structured data, facilitating the identification of promising leads.\n",
      "6. **AutoML (Automated Machine Learning) tools**: These platforms use AI algorithms to automate the process of selecting the most suitable machine learning models for specific tasks, such as predicting molecular properties or identifying potential hits.\n",
      "7. **Docking simulation tools**: These tools use DL-based methods to simulate the binding of molecules to proteins\n"
     ]
    }
   ],
   "source": [
    "answer = READER_LLM(final_prompt)[0][\"generated_text\"]\n",
    "print(answer)"
   ]
  },
  {
   "cell_type": "code",
   "execution_count": null,
   "id": "06c3969b-860b-409f-8995-5267fd67c261",
   "metadata": {},
   "outputs": [],
   "source": []
  },
  {
   "cell_type": "code",
   "execution_count": null,
   "id": "86acfed5-8c3f-4ed1-977b-4c888e1b179f",
   "metadata": {},
   "outputs": [],
   "source": []
  }
 ],
 "metadata": {
  "kernelspec": {
   "display_name": ".venv",
   "language": "python",
   "name": "python3"
  },
  "language_info": {
   "codemirror_mode": {
    "name": "ipython",
    "version": 3
   },
   "file_extension": ".py",
   "mimetype": "text/x-python",
   "name": "python",
   "nbconvert_exporter": "python",
   "pygments_lexer": "ipython3",
   "version": "3.12.3"
  }
 },
 "nbformat": 4,
 "nbformat_minor": 5
}
